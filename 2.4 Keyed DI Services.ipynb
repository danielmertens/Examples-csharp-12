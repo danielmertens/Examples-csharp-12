{
 "cells": [
  {
   "cell_type": "markdown",
   "metadata": {},
   "source": [
    "# Keyed dependency injection services\n",
    "\n",
    "- The `IKeyedServiceProvider` interface.\n",
    "- The `ServiceKeyAttribute` attribute, which can be used to inject the key that was used for registration/resolution in the constructor.\n",
    "- The `FromKeyedServicesAttribute` attribute, which can be used on service constructor parameters to specify which keyed service to use.\n",
    "- Various new extension methods for `IServiceCollection` to support keyed services, for example, `ServiceCollectionServiceExtensions.AddKeyedScoped`.\n",
    "- The `ServiceProvider` implementation of `IKeyedServiceProvider`."
   ]
  },
  {
   "cell_type": "code",
   "execution_count": 2,
   "metadata": {
    "vscode": {
     "languageId": "polyglot-notebook"
    }
   },
   "outputs": [
    {
     "data": {
      "text/html": [
       "<div><div></div><div></div><div><strong>Installed Packages</strong><ul><li><span>Microsoft.DotNet.Interactive.AspNetCore, 1.0.0-beta.24101.2</span></li></ul></div></div>"
      ]
     },
     "metadata": {},
     "output_type": "display_data"
    },
    {
     "data": {
      "text/plain": [
       "Loading extension script from `C:\\Users\\DanielM\\.nuget\\packages\\microsoft.dotnet.interactive.aspnetcore\\1.0.0-beta.24101.2\\interactive-extensions\\dotnet\\extension.dib`"
      ]
     },
     "metadata": {},
     "output_type": "display_data"
    }
   ],
   "source": [
    "#r \"nuget:Microsoft.DotNet.Interactive.AspNetCore, *-*\""
   ]
  },
  {
   "cell_type": "code",
   "execution_count": 4,
   "metadata": {
    "dotnet_interactive": {
     "language": "csharp"
    },
    "polyglot_notebook": {
     "kernelName": "csharp"
    },
    "vscode": {
     "languageId": "polyglot-notebook"
    }
   },
   "outputs": [
    {
     "name": "stdout",
     "output_type": "stream",
     "text": [
      "info: Microsoft.Hosting.Lifetime[14]\n",
      "      Now listening on: http://localhost:5000\n",
      "info: Microsoft.Hosting.Lifetime[0]\n",
      "      Application started. Press Ctrl+C to shut down.\n",
      "info: Microsoft.Hosting.Lifetime[0]\n",
      "      Hosting environment: Local\n",
      "info: Microsoft.Hosting.Lifetime[0]\n",
      "      Content root path: c:\\Users\\DanielM\\Documents\\ISKA\\Dotnet 8\n"
     ]
    },
    {
     "ename": "Error",
     "evalue": "Command cancelled.",
     "output_type": "error",
     "traceback": [
      "Command cancelled."
     ]
    }
   ],
   "source": [
    "#!aspnet\n",
    "using Microsoft.Extensions.DependencyInjection;\n",
    "\n",
    "var builder = WebApplication.CreateBuilder();\n",
    "builder.Services.AddSingleton<BigCacheConsumer>();\n",
    "builder.Services.AddSingleton<SmallCacheConsumer>();\n",
    "builder.Services.AddKeyedSingleton<ICache, BigCache>(\"big\");\n",
    "builder.Services.AddKeyedSingleton<ICache, SmallCache>(\"small\");\n",
    "var app = builder.Build();\n",
    "app.MapGet(\"/big\", (BigCacheConsumer data) => data.GetData());\n",
    "app.MapGet(\"/small\", (SmallCacheConsumer data) => data.GetData());\n",
    "app.MapGet(\"/big-cache\", ([FromKeyedServices(\"big\")] ICache cache) => cache.Get(\"data\"));\n",
    "app.MapGet(\"/small-cache\", (HttpContext httpContext) => httpContext.RequestServices.GetRequiredKeyedService<ICache>(\"small\").Get(\"data\"));\n",
    "app.Run();\n",
    "\n",
    "class BigCacheConsumer([FromKeyedServices(\"big\")] ICache cache)\n",
    "{\n",
    "    public object? GetData() => cache.Get(\"data\");\n",
    "}\n",
    "\n",
    "class SmallCacheConsumer(IServiceProvider serviceProvider)\n",
    "{\n",
    "    public object? GetData() => serviceProvider.GetRequiredKeyedService<ICache>(\"small\").Get(\"data\");\n",
    "}\n",
    "\n",
    "public interface ICache\n",
    "{\n",
    "    object Get(string key);\n",
    "}\n",
    "\n",
    "public class BigCache : ICache\n",
    "{\n",
    "    public object Get(string key) => $\"Resolving {key} from big cache.\";\n",
    "}\n",
    "\n",
    "public class SmallCache : ICache\n",
    "{\n",
    "    public object Get(string key) => $\"Resolving {key} from small cache.\";\n",
    "}"
   ]
  }
 ],
 "metadata": {
  "language_info": {
   "name": "csharp"
  }
 },
 "nbformat": 4,
 "nbformat_minor": 2
}
