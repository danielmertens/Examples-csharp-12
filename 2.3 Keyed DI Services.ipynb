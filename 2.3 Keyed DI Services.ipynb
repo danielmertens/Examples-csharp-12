{
 "cells": [
  {
   "cell_type": "markdown",
   "metadata": {},
   "source": [
    "# Keyed dependency injection services\n",
    "\n",
    "- The `IKeyedServiceProvider` interface.\n",
    "- The `ServiceKeyAttribute` attribute, which can be used to inject the key that was used for registration/resolution in the constructor.\n",
    "- The `FromKeyedServicesAttribute` attribute, which can be used on service constructor parameters to specify which keyed service to use.\n",
    "- Various new extension methods for `IServiceCollection` to support keyed services, for example, `ServiceCollectionServiceExtensions.AddKeyedScoped`.\n",
    "- The `ServiceProvider` implementation of `IKeyedServiceProvider`."
   ]
  },
  {
   "cell_type": "code",
   "execution_count": 2,
   "metadata": {
    "dotnet_interactive": {
     "language": "csharp"
    },
    "polyglot_notebook": {
     "kernelName": "csharp"
    },
    "vscode": {
     "languageId": "polyglot-notebook"
    }
   },
   "outputs": [
    {
     "data": {
      "text/html": [
       "<div><div></div><div></div><div><strong>Installed Packages</strong><ul><li><span>Microsoft.DotNet.Interactive.AspNetCore, 1.0.0-beta.24101.2</span></li></ul></div></div>"
      ]
     },
     "metadata": {},
     "output_type": "display_data"
    },
    {
     "data": {
      "text/plain": [
       "Loading extension script from `C:\\Users\\DanielM\\.nuget\\packages\\microsoft.dotnet.interactive.aspnetcore\\1.0.0-beta.24101.2\\interactive-extensions\\dotnet\\extension.dib`"
      ]
     },
     "metadata": {},
     "output_type": "display_data"
    }
   ],
   "source": [
    "#r \"nuget:Microsoft.DotNet.Interactive.AspNetCore, *-*\""
   ]
  },
  {
   "cell_type": "code",
   "execution_count": 3,
   "metadata": {
    "dotnet_interactive": {
     "language": "csharp"
    },
    "polyglot_notebook": {
     "kernelName": "csharp"
    },
    "vscode": {
     "languageId": "polyglot-notebook"
    }
   },
   "outputs": [
    {
     "name": "stdout",
     "output_type": "stream",
     "text": [
      "info: Microsoft.Hosting.Lifetime[14]\n",
      "      Now listening on: http://localhost:5000\n",
      "info: Microsoft.Hosting.Lifetime[0]\n",
      "      Application started. Press Ctrl+C to shut down.\n",
      "info: Microsoft.Hosting.Lifetime[0]\n",
      "      Hosting environment: Local\n",
      "info: Microsoft.Hosting.Lifetime[0]\n",
      "      Content root path: c:\\Users\\DanielM\\Documents\\ISKA\\Dotnet 8\n",
      "info: Microsoft.AspNetCore.Hosting.Diagnostics[1]\n",
      "      Request starting HTTP/1.1 GET http://localhost:5000/big - - -\n",
      "info: Microsoft.AspNetCore.Routing.EndpointMiddleware[0]\n",
      "      Executing endpoint 'HTTP: GET /big => <<Initialize>>b__0_0'\n",
      "info: Microsoft.AspNetCore.Routing.EndpointMiddleware[1]\n",
      "      Executed endpoint 'HTTP: GET /big => <<Initialize>>b__0_0'\n",
      "info: Microsoft.AspNetCore.Hosting.Diagnostics[2]\n",
      "      Request finished HTTP/1.1 GET http://localhost:5000/big - 200 - text/plain;+charset=utf-8 246.4761ms\n",
      "info: Microsoft.AspNetCore.Hosting.Diagnostics[1]\n",
      "      Request starting HTTP/1.1 GET http://localhost:5000/favicon.ico - - -\n",
      "info: Microsoft.AspNetCore.Hosting.Diagnostics[2]\n",
      "      Request finished HTTP/1.1 GET http://localhost:5000/favicon.ico - 404 0 - 6.0240ms\n",
      "info: Microsoft.AspNetCore.Hosting.Diagnostics[16]\n",
      "      Request reached the end of the middleware pipeline without being handled by application code. Request path: GET http://localhost:5000/favicon.ico, Response status code: 404\n"
     ]
    },
    {
     "ename": "Error",
     "evalue": "Command cancelled.",
     "output_type": "error",
     "traceback": [
      "Command cancelled."
     ]
    }
   ],
   "source": [
    "#!aspnet\n",
    "using Microsoft.Extensions.DependencyInjection;\n",
    "\n",
    "var builder = WebApplication.CreateBuilder();\n",
    "builder.Services.AddSingleton<BigCacheConsumer>();\n",
    "builder.Services.AddSingleton<SmallCacheConsumer>();\n",
    "builder.Services.AddKeyedSingleton<ICache, BigCache>(\"big\");\n",
    "builder.Services.AddKeyedSingleton<ICache, SmallCache>(\"small\");\n",
    "var app = builder.Build();\n",
    "app.MapGet(\"/big\", (BigCacheConsumer data) => data.GetData());\n",
    "app.MapGet(\"/small\", (SmallCacheConsumer data) => data.GetData());\n",
    "app.MapGet(\"/big-cache\", ([FromKeyedServices(\"big\")] ICache cache) => cache.Get(\"data\"));\n",
    "app.MapGet(\"/small-cache\", (HttpContext httpContext) => httpContext.RequestServices.GetRequiredKeyedService<ICache>(\"small\").Get(\"data\"));\n",
    "app.Run();\n",
    "\n",
    "class BigCacheConsumer([FromKeyedServices(\"big\")] ICache cache)\n",
    "{\n",
    "    public object? GetData() => cache.Get(\"data\");\n",
    "}\n",
    "\n",
    "class SmallCacheConsumer(IServiceProvider serviceProvider)\n",
    "{\n",
    "    public object? GetData() => serviceProvider.GetRequiredKeyedService<ICache>(\"small\").Get(\"data\");\n",
    "}\n",
    "\n",
    "public interface ICache\n",
    "{\n",
    "    object Get(string key);\n",
    "}\n",
    "\n",
    "public class BigCache : ICache\n",
    "{\n",
    "    public object Get(string key) => $\"Resolving {key} from big cache.\";\n",
    "}\n",
    "\n",
    "public class SmallCache : ICache\n",
    "{\n",
    "    public object Get(string key) => $\"Resolving {key} from small cache.\";\n",
    "}"
   ]
  },
  {
   "cell_type": "markdown",
   "metadata": {},
   "source": [
    "## Real world example"
   ]
  },
  {
   "cell_type": "code",
   "execution_count": 1,
   "metadata": {
    "dotnet_interactive": {
     "language": "csharp"
    },
    "polyglot_notebook": {
     "kernelName": "csharp"
    },
    "vscode": {
     "languageId": "polyglot-notebook"
    }
   },
   "outputs": [
    {
     "ename": "Error",
     "evalue": "(18,79): error CS8635: Unexpected character sequence '...'\r\n(18,81): error CS1003: Syntax error, ',' expected\r\n(19,80): error CS8635: Unexpected character sequence '...'\r\n(19,82): error CS1003: Syntax error, ',' expected",
     "output_type": "error",
     "traceback": [
      "(18,79): error CS8635: Unexpected character sequence '...'\r\n",
      "(18,81): error CS1003: Syntax error, ',' expected\r\n",
      "(19,80): error CS8635: Unexpected character sequence '...'\r\n",
      "(19,82): error CS1003: Syntax error, ',' expected"
     ]
    }
   ],
   "source": [
    "public class User {}\n",
    "\n",
    "public interface IUserService {\n",
    "    Task<User> GetUser(string userId);\n",
    "    Task<IEnumerable<User>> GetUsers();\n",
    "}\n",
    "\n",
    "public interface IUserServiceAsUser : IUserService { }\n",
    "public interface IUserServiceAsApp : IUserService { }\n",
    "\n",
    "public class AADUserService : IUserService, IUserServiceAsUser, IUserServiceAsApp { }\n",
    "\n",
    "services.AddScoped<IUserServiceAsApp>(sp => new AADUserService(/* app specific login service*/));\n",
    "services.AddScoped<IUserServiceAsUser>(sp => new AADUserService(/* user specific login service*/));\n",
    "\n",
    "// with keyed DI\n",
    "builder.Services.AddKeyedScoped<IUserService>(\"app\", sp => new AADUserService(/* app specific login service*/)));\n",
    "builder.Services.AddKeyedScoped<IUserService>(\"user\", sp => new AADUserService(/* user specific login service*/));\n",
    "\n",
    "public void GetUsers([FromKeyedServices(\"app\")] IUserService userService) { } \n",
    "public void GetUsers([FromKeyedServices(\"user\")] IUserService userService) { } "
   ]
  }
 ],
 "metadata": {
  "language_info": {
   "name": "csharp"
  }
 },
 "nbformat": 4,
 "nbformat_minor": 2
}
