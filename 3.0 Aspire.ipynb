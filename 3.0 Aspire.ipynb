{
 "cells": [
  {
   "cell_type": "markdown",
   "metadata": {},
   "source": [
    "# Aspire\n",
    "\n",
    ".NET Aspire is an opinionated, cloud ready stack for building observable, production ready, distributed applications."
   ]
  }
 ],
 "metadata": {
  "language_info": {
   "name": "csharp"
  }
 },
 "nbformat": 4,
 "nbformat_minor": 2
}
